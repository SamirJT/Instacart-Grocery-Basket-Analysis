{
 "cells": [
  {
   "cell_type": "markdown",
   "id": "f0a76e32",
   "metadata": {},
   "source": [
    "#01. Importing Libraries"
   ]
  },
  {
   "cell_type": "code",
   "execution_count": 1,
   "id": "9a49f26c",
   "metadata": {},
   "outputs": [],
   "source": [
    "#Import Libraries\n",
    "import pandas as pd\n",
    "import numpy as np\n",
    "import os"
   ]
  },
  {
   "cell_type": "markdown",
   "id": "8cbcc364",
   "metadata": {},
   "source": [
    "#02. Python Data Types"
   ]
  },
  {
   "cell_type": "code",
   "execution_count": 2,
   "id": "da7c5fe4",
   "metadata": {},
   "outputs": [],
   "source": [
    "x = 50"
   ]
  },
  {
   "cell_type": "code",
   "execution_count": 3,
   "id": "ab9a1247",
   "metadata": {},
   "outputs": [],
   "source": [
    "y = 50"
   ]
  },
  {
   "cell_type": "code",
   "execution_count": 4,
   "id": "1dde102d",
   "metadata": {},
   "outputs": [
    {
     "data": {
      "text/plain": [
       "100"
      ]
     },
     "execution_count": 4,
     "metadata": {},
     "output_type": "execute_result"
    }
   ],
   "source": [
    "x+y"
   ]
  },
  {
   "cell_type": "code",
   "execution_count": 5,
   "id": "b410580f",
   "metadata": {},
   "outputs": [
    {
     "data": {
      "text/plain": [
       "100"
      ]
     },
     "execution_count": 5,
     "metadata": {},
     "output_type": "execute_result"
    }
   ],
   "source": [
    "x * 2"
   ]
  },
  {
   "cell_type": "code",
   "execution_count": 7,
   "id": "1e3e4f38",
   "metadata": {},
   "outputs": [
    {
     "data": {
      "text/plain": [
       "100.0"
      ]
     },
     "execution_count": 7,
     "metadata": {},
     "output_type": "execute_result"
    }
   ],
   "source": [
    "5000 / y"
   ]
  },
  {
   "cell_type": "code",
   "execution_count": 11,
   "id": "d82f0fc6",
   "metadata": {},
   "outputs": [],
   "source": [
    "a = 2.35"
   ]
  },
  {
   "cell_type": "code",
   "execution_count": 9,
   "id": "43c7f0d1",
   "metadata": {},
   "outputs": [],
   "source": [
    "b = 6.75"
   ]
  },
  {
   "cell_type": "code",
   "execution_count": 17,
   "id": "d30e0411",
   "metadata": {},
   "outputs": [
    {
     "data": {
      "text/plain": [
       "2.872340425531915"
      ]
     },
     "execution_count": 17,
     "metadata": {},
     "output_type": "execute_result"
    }
   ],
   "source": [
    "b / a"
   ]
  },
  {
   "cell_type": "code",
   "execution_count": 13,
   "id": "a95916da",
   "metadata": {},
   "outputs": [],
   "source": [
    "c = 'con'"
   ]
  },
  {
   "cell_type": "code",
   "execution_count": 14,
   "id": "0213ecfb",
   "metadata": {},
   "outputs": [],
   "source": [
    "d = 'cate'"
   ]
  },
  {
   "cell_type": "code",
   "execution_count": 15,
   "id": "cd68f10c",
   "metadata": {},
   "outputs": [],
   "source": [
    "e = 'nate'"
   ]
  },
  {
   "cell_type": "code",
   "execution_count": 16,
   "id": "e516447c",
   "metadata": {},
   "outputs": [
    {
     "data": {
      "text/plain": [
       "'concatenate'"
      ]
     },
     "execution_count": 16,
     "metadata": {},
     "output_type": "execute_result"
    }
   ],
   "source": [
    "c + d + e"
   ]
  },
  {
   "cell_type": "code",
   "execution_count": 18,
   "id": "5187d0a7",
   "metadata": {},
   "outputs": [],
   "source": [
    "f = 'some'"
   ]
  },
  {
   "cell_type": "code",
   "execution_count": 19,
   "id": "8636080e",
   "metadata": {},
   "outputs": [],
   "source": [
    "g = 'strings!'"
   ]
  },
  {
   "cell_type": "code",
   "execution_count": 21,
   "id": "3e9988b1",
   "metadata": {},
   "outputs": [
    {
     "data": {
      "text/plain": [
       "'concatenatesomestrings!'"
      ]
     },
     "execution_count": 21,
     "metadata": {},
     "output_type": "execute_result"
    }
   ],
   "source": [
    "c + d + e + f + g"
   ]
  }
 ],
 "metadata": {
  "kernelspec": {
   "display_name": "Python 3 (ipykernel)",
   "language": "python",
   "name": "python3"
  },
  "language_info": {
   "codemirror_mode": {
    "name": "ipython",
    "version": 3
   },
   "file_extension": ".py",
   "mimetype": "text/x-python",
   "name": "python",
   "nbconvert_exporter": "python",
   "pygments_lexer": "ipython3",
   "version": "3.9.13"
  }
 },
 "nbformat": 4,
 "nbformat_minor": 5
}
